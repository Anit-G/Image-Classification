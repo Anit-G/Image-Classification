{
 "cells": [
  {
   "cell_type": "code",
   "execution_count": 1,
   "id": "81890467-65c5-432e-96b5-813595e92b46",
   "metadata": {},
   "outputs": [],
   "source": [
    "import numpy as np\n",
    "import matplotlib.pyplot as plt\n",
    "import pandas as pd\n",
    "import os\n",
    "import glob as gb\n",
    "import shutil\n",
    "import tensorflow as tf\n",
    "\n",
    "from tensorflow.keras.preprocessing import image\n",
    "from tensorflow.keras.preprocessing.image import ImageDataGenerator, img_to_array, load_img\n",
    "from tensorflow.keras.models import Sequential, Model, load_model\n",
    "from tensorflow.keras.layers import Dense, Flatten, Conv2D, MaxPooling2D, Dropout, BatchNormalization\n",
    "from tensorflow.keras import optimizers\n",
    "from sklearn.metrics import mean_squared_error, accuracy_score, classification_report\n",
    "\n",
    "from tensorflow.keras.applications import VGG19\n",
    "\n",
    "%matplotlib inline\n",
    "tf.random.set_seed(0)\n",
    "np.random.seed(0)"
   ]
  },
  {
   "cell_type": "markdown",
   "id": "99b2287a-883d-44a8-9db8-105b21505d43",
   "metadata": {},
   "source": [
    "# Import Data"
   ]
  },
  {
   "cell_type": "code",
   "execution_count": null,
   "id": "b877a9f2-8f52-4a24-a986-d3e28f77c4c0",
   "metadata": {},
   "outputs": [],
   "source": [
    "shutil.unpack_archive('covid-19-detection-using-transfer-learning.zip')"
   ]
  },
  {
   "cell_type": "code",
   "execution_count": 2,
   "id": "30ef7125-a630-47bd-9df9-f5b91e1154d1",
   "metadata": {},
   "outputs": [],
   "source": [
    "train_path = 'kaggle_transfer_learning_covid/train/'\n",
    "test_path = 'kaggle_transfer_learning_covid/test/'"
   ]
  },
  {
   "cell_type": "code",
   "execution_count": 3,
   "id": "30712edb-1249-4975-8d48-73a2b218b406",
   "metadata": {
    "tags": []
   },
   "outputs": [
    {
     "name": "stdout",
     "output_type": "stream",
     "text": [
      "For training we have 70 images in the folder covid\n",
      "For training we have 70 images in the folder normal\n",
      "For training we have 70 images in the folder pneumonia\n",
      "Total image count is: 210\n",
      "0.95% of the files are of the same size\n"
     ]
    }
   ],
   "source": [
    "size=[]\n",
    "file_count = 0\n",
    "for folder in os.listdir(train_path):\n",
    "    files = os.listdir(train_path+folder)\n",
    "    print(f'For training we have {len(files)} images in the folder {folder}')\n",
    "    file_count += len(files)\n",
    "    for file in files:\n",
    "        img = plt.imread(train_path+folder+'/'+file)\n",
    "        size.append(img.shape)\n",
    "        \n",
    "print(f'Total image count is: {file_count}')\n",
    "print(f'{pd.Series(size).value_counts()[0]/file_count:.2%} of the files are of the same size')\n"
   ]
  },
  {
   "cell_type": "code",
   "execution_count": 4,
   "id": "1b73e0a5-c77a-4452-9106-8846d14c6fe2",
   "metadata": {},
   "outputs": [
    {
     "name": "stdout",
     "output_type": "stream",
     "text": [
      "Total file count is 96\n",
      "1.04% of the images are the same size\n"
     ]
    }
   ],
   "source": [
    "size = []\n",
    "file_count = len(os.listdir(test_path))\n",
    "for file in os.listdir(test_path):\n",
    "    size.append((plt.imread(test_path+file)).shape)\n",
    "print(f'Total file count is {file_count}')\n",
    "print(f'{pd.Series(size).value_counts()[0]/file_count:.2%} of the images are the same size')"
   ]
  },
  {
   "cell_type": "code",
   "execution_count": 5,
   "id": "a2a47d5c-7713-455b-98a0-f3d79e1e8f05",
   "metadata": {},
   "outputs": [],
   "source": [
    "def prepare_image(img):\n",
    "    assert img.shape[0] > 10\n",
    "    assert len(img.shape) == 3\n",
    "    \n",
    "    img = np.dot(img[...,:3],[.3,.6,.1]) #Convert to grayscale\n",
    "    img = np.expand_dims(img,axis=2) # expand dims to (:,:,1)\n",
    "    \n",
    "    assert len(img.shape) == 3\n",
    "    return img"
   ]
  },
  {
   "cell_type": "code",
   "execution_count": 29,
   "id": "8b22edec-e486-4c4b-8427-484de34e4465",
   "metadata": {},
   "outputs": [
    {
     "name": "stdout",
     "output_type": "stream",
     "text": [
      "Found 168 images belonging to 3 classes.\n",
      "Found 42 images belonging to 3 classes.\n",
      "Found 96 images belonging to 1 classes.\n"
     ]
    }
   ],
   "source": [
    "train_datagen = ImageDataGenerator(rescale=1./255,\n",
    "                                   shear_range=0.2,\n",
    "                                   width_shift_range=0.2,\n",
    "                                   height_shift_range = 0.2,\n",
    "                                   validation_split = 0.2,\n",
    "                                   preprocessing_function = prepare_image,\n",
    "                                   horizontal_flip=True)\n",
    "test_datagen = ImageDataGenerator(rescale=1./255,\n",
    "                                  preprocessing_function = prepare_image)\n",
    "\n",
    "\n",
    "target_size=(256,256)\n",
    "train_set = train_datagen.flow_from_directory(train_path,\n",
    "                                              batch_size=16,\n",
    "                                              classes = os.listdir(train_path),\n",
    "                                              class_mode='categorical',\n",
    "                                              subset='training',\n",
    "                                              target_size=target_size)\n",
    "validation_set = train_datagen.flow_from_directory(train_path,\n",
    "                                              batch_size=16,\n",
    "                                              classes = os.listdir(train_path),\n",
    "                                              class_mode='categorical',\n",
    "                                              subset='validation',\n",
    "                                              target_size=target_size)\n",
    "\n",
    "pred_set = test_datagen.flow_from_directory(test_path,\n",
    "                                                  batch_size=96,\n",
    "                                                  class_mode=None,\n",
    "                                                  shuffle=False,\n",
    "                                                  target_size=target_size)"
   ]
  },
  {
   "cell_type": "markdown",
   "id": "edd0817a-371f-482e-9732-e80f595faf5e",
   "metadata": {},
   "source": [
    "# CNN Model"
   ]
  },
  {
   "cell_type": "code",
   "execution_count": 30,
   "id": "3b376478-ca79-4ecc-ab64-417e40cad62e",
   "metadata": {
    "tags": []
   },
   "outputs": [],
   "source": [
    "CNN = Sequential()\n",
    "\n",
    "CNN.add(Conv2D(32,(3,3), activation='relu', input_shape=[256,256,3]))\n",
    "CNN.add(MaxPooling2D(pool_size=(2,2)))\n",
    "\n",
    "for i in [64,128,128]:\n",
    "    CNN.add(Conv2D(i,(3,3), activation='relu'))\n",
    "    CNN.add(MaxPooling2D(pool_size=(2,2)))\n",
    "    CNN.add(Dropout(0.1))\n",
    "\n",
    "CNN.add(Flatten())\n",
    "\n",
    "CNN.add(Dense(256,activation='relu'))\n",
    "CNN.add(Dropout(0.25))\n",
    "CNN.add(Dense(3,activation='softmax'))\n",
    "\n",
    "CNN.compile(loss='categorical_crossentropy',optimizer='adam',metrics=['accuracy'])"
   ]
  },
  {
   "cell_type": "code",
   "execution_count": 31,
   "id": "662a6d64-2c47-46d6-af41-0e6b047f9c2f",
   "metadata": {
    "tags": []
   },
   "outputs": [
    {
     "name": "stdout",
     "output_type": "stream",
     "text": [
      "Model: \"sequential_2\"\n",
      "_________________________________________________________________\n",
      "Layer (type)                 Output Shape              Param #   \n",
      "=================================================================\n",
      "conv2d_8 (Conv2D)            (None, 254, 254, 32)      896       \n",
      "_________________________________________________________________\n",
      "max_pooling2d_8 (MaxPooling2 (None, 127, 127, 32)      0         \n",
      "_________________________________________________________________\n",
      "conv2d_9 (Conv2D)            (None, 125, 125, 64)      18496     \n",
      "_________________________________________________________________\n",
      "max_pooling2d_9 (MaxPooling2 (None, 62, 62, 64)        0         \n",
      "_________________________________________________________________\n",
      "dropout_8 (Dropout)          (None, 62, 62, 64)        0         \n",
      "_________________________________________________________________\n",
      "conv2d_10 (Conv2D)           (None, 60, 60, 128)       73856     \n",
      "_________________________________________________________________\n",
      "max_pooling2d_10 (MaxPooling (None, 30, 30, 128)       0         \n",
      "_________________________________________________________________\n",
      "dropout_9 (Dropout)          (None, 30, 30, 128)       0         \n",
      "_________________________________________________________________\n",
      "conv2d_11 (Conv2D)           (None, 28, 28, 128)       147584    \n",
      "_________________________________________________________________\n",
      "max_pooling2d_11 (MaxPooling (None, 14, 14, 128)       0         \n",
      "_________________________________________________________________\n",
      "dropout_10 (Dropout)         (None, 14, 14, 128)       0         \n",
      "_________________________________________________________________\n",
      "flatten_2 (Flatten)          (None, 25088)             0         \n",
      "_________________________________________________________________\n",
      "dense_4 (Dense)              (None, 256)               6422784   \n",
      "_________________________________________________________________\n",
      "dropout_11 (Dropout)         (None, 256)               0         \n",
      "_________________________________________________________________\n",
      "dense_5 (Dense)              (None, 3)                 771       \n",
      "=================================================================\n",
      "Total params: 6,664,387\n",
      "Trainable params: 6,664,387\n",
      "Non-trainable params: 0\n",
      "_________________________________________________________________\n"
     ]
    }
   ],
   "source": [
    "CNN.summary()"
   ]
  },
  {
   "cell_type": "code",
   "execution_count": 32,
   "id": "7a35ecbb-8f6b-4578-a9f3-9b90813ab92c",
   "metadata": {
    "tags": []
   },
   "outputs": [
    {
     "name": "stdout",
     "output_type": "stream",
     "text": [
      "WARNING:tensorflow:sample_weight modes were coerced from\n",
      "  ...\n",
      "    to  \n",
      "  ['...']\n",
      "WARNING:tensorflow:sample_weight modes were coerced from\n",
      "  ...\n",
      "    to  \n",
      "  ['...']\n",
      "Train for 11 steps, validate for 3 steps\n",
      "Epoch 1/100\n",
      "11/11 - 9s - loss: 1.2241 - accuracy: 0.2857 - val_loss: 1.0942 - val_accuracy: 0.3810\n",
      "Epoch 2/100\n",
      "11/11 - 7s - loss: 1.0936 - accuracy: 0.3333 - val_loss: 1.0747 - val_accuracy: 0.4524\n",
      "Epoch 3/100\n",
      "11/11 - 6s - loss: 0.9865 - accuracy: 0.5179 - val_loss: 0.7058 - val_accuracy: 0.7619\n",
      "Epoch 4/100\n",
      "11/11 - 6s - loss: 0.7573 - accuracy: 0.6667 - val_loss: 0.5546 - val_accuracy: 0.8571\n",
      "Epoch 5/100\n",
      "11/11 - 6s - loss: 0.7169 - accuracy: 0.6845 - val_loss: 0.6614 - val_accuracy: 0.5476\n",
      "Epoch 6/100\n",
      "11/11 - 6s - loss: 0.7342 - accuracy: 0.6310 - val_loss: 0.5249 - val_accuracy: 0.8095\n",
      "Epoch 7/100\n",
      "11/11 - 6s - loss: 0.7646 - accuracy: 0.6548 - val_loss: 0.5584 - val_accuracy: 0.7619\n",
      "Epoch 8/100\n",
      "11/11 - 7s - loss: 0.6107 - accuracy: 0.7143 - val_loss: 0.5484 - val_accuracy: 0.7857\n",
      "Epoch 9/100\n",
      "11/11 - 8s - loss: 0.4870 - accuracy: 0.8274 - val_loss: 0.5383 - val_accuracy: 0.7857\n",
      "Epoch 10/100\n",
      "11/11 - 7s - loss: 0.5406 - accuracy: 0.7619 - val_loss: 0.5398 - val_accuracy: 0.8095\n",
      "Epoch 11/100\n",
      "11/11 - 6s - loss: 0.6517 - accuracy: 0.7440 - val_loss: 0.4562 - val_accuracy: 0.8333\n",
      "Epoch 12/100\n",
      "11/11 - 7s - loss: 0.5972 - accuracy: 0.7917 - val_loss: 0.4125 - val_accuracy: 0.8333\n",
      "Epoch 13/100\n",
      "11/11 - 7s - loss: 0.7349 - accuracy: 0.7024 - val_loss: 0.5629 - val_accuracy: 0.7857\n",
      "Epoch 14/100\n",
      "11/11 - 7s - loss: 0.6305 - accuracy: 0.7262 - val_loss: 0.5231 - val_accuracy: 0.8095\n",
      "Epoch 15/100\n",
      "11/11 - 7s - loss: 0.5586 - accuracy: 0.7798 - val_loss: 0.3730 - val_accuracy: 0.8571\n",
      "Epoch 16/100\n",
      "11/11 - 7s - loss: 0.5203 - accuracy: 0.7917 - val_loss: 0.3744 - val_accuracy: 0.8333\n",
      "Epoch 17/100\n",
      "11/11 - 7s - loss: 0.4264 - accuracy: 0.8393 - val_loss: 0.4329 - val_accuracy: 0.7619\n",
      "Epoch 18/100\n",
      "11/11 - 7s - loss: 0.4777 - accuracy: 0.7917 - val_loss: 0.4698 - val_accuracy: 0.8095\n",
      "Epoch 19/100\n",
      "11/11 - 7s - loss: 0.4207 - accuracy: 0.8274 - val_loss: 0.3447 - val_accuracy: 0.9048\n",
      "Epoch 20/100\n",
      "11/11 - 7s - loss: 0.4222 - accuracy: 0.8333 - val_loss: 0.3205 - val_accuracy: 0.8571\n",
      "Epoch 21/100\n",
      "11/11 - 7s - loss: 0.3969 - accuracy: 0.7976 - val_loss: 0.3634 - val_accuracy: 0.8095\n",
      "Epoch 22/100\n",
      "11/11 - 7s - loss: 0.4501 - accuracy: 0.8274 - val_loss: 0.3984 - val_accuracy: 0.8095\n",
      "Epoch 23/100\n",
      "11/11 - 7s - loss: 0.4255 - accuracy: 0.8452 - val_loss: 0.3382 - val_accuracy: 0.8571\n",
      "Epoch 24/100\n",
      "11/11 - 9s - loss: 0.3686 - accuracy: 0.8869 - val_loss: 0.3922 - val_accuracy: 0.8095\n",
      "Epoch 25/100\n",
      "11/11 - 9s - loss: 0.3459 - accuracy: 0.8869 - val_loss: 0.3831 - val_accuracy: 0.8571\n",
      "Epoch 26/100\n",
      "11/11 - 8s - loss: 0.4197 - accuracy: 0.8393 - val_loss: 0.3966 - val_accuracy: 0.8095\n",
      "Epoch 27/100\n",
      "11/11 - 8s - loss: 0.4424 - accuracy: 0.8333 - val_loss: 0.4578 - val_accuracy: 0.7143\n",
      "Epoch 28/100\n",
      "11/11 - 7s - loss: 0.4134 - accuracy: 0.8095 - val_loss: 0.3623 - val_accuracy: 0.8571\n",
      "Epoch 29/100\n",
      "11/11 - 8s - loss: 0.3215 - accuracy: 0.8869 - val_loss: 0.4375 - val_accuracy: 0.8571\n",
      "Epoch 30/100\n",
      "11/11 - 7s - loss: 0.5114 - accuracy: 0.8095 - val_loss: 0.4954 - val_accuracy: 0.8571\n",
      "Epoch 31/100\n",
      "11/11 - 7s - loss: 0.3653 - accuracy: 0.8036 - val_loss: 0.4001 - val_accuracy: 0.8333\n",
      "Epoch 32/100\n",
      "11/11 - 7s - loss: 0.3700 - accuracy: 0.8690 - val_loss: 0.3604 - val_accuracy: 0.8810\n",
      "Epoch 33/100\n",
      "11/11 - 7s - loss: 0.3715 - accuracy: 0.8452 - val_loss: 0.2716 - val_accuracy: 0.8571\n",
      "Epoch 34/100\n",
      "11/11 - 7s - loss: 0.4195 - accuracy: 0.8452 - val_loss: 0.2942 - val_accuracy: 0.8810\n",
      "Epoch 35/100\n",
      "11/11 - 8s - loss: 0.2921 - accuracy: 0.9048 - val_loss: 0.2703 - val_accuracy: 0.8333\n",
      "Epoch 36/100\n",
      "11/11 - 7s - loss: 0.2996 - accuracy: 0.8869 - val_loss: 0.4356 - val_accuracy: 0.7857\n",
      "Epoch 37/100\n",
      "11/11 - 7s - loss: 0.3182 - accuracy: 0.8750 - val_loss: 0.2198 - val_accuracy: 0.9048\n",
      "Epoch 38/100\n",
      "11/11 - 7s - loss: 0.3031 - accuracy: 0.8869 - val_loss: 0.2279 - val_accuracy: 0.8810\n",
      "Epoch 39/100\n",
      "11/11 - 6s - loss: 0.3718 - accuracy: 0.8393 - val_loss: 0.2897 - val_accuracy: 0.8810\n",
      "Epoch 40/100\n",
      "11/11 - 7s - loss: 0.2886 - accuracy: 0.8869 - val_loss: 0.2328 - val_accuracy: 0.9048\n",
      "Epoch 41/100\n",
      "11/11 - 7s - loss: 0.3380 - accuracy: 0.8869 - val_loss: 0.2983 - val_accuracy: 0.8571\n",
      "Epoch 42/100\n",
      "11/11 - 7s - loss: 0.2661 - accuracy: 0.8929 - val_loss: 0.2588 - val_accuracy: 0.8571\n",
      "Epoch 43/100\n",
      "11/11 - 7s - loss: 0.3300 - accuracy: 0.8750 - val_loss: 0.2547 - val_accuracy: 0.9048\n",
      "Epoch 44/100\n",
      "11/11 - 7s - loss: 0.3124 - accuracy: 0.8690 - val_loss: 0.2345 - val_accuracy: 0.9286\n",
      "Epoch 45/100\n",
      "11/11 - 8s - loss: 0.2763 - accuracy: 0.8988 - val_loss: 0.3957 - val_accuracy: 0.8333\n",
      "Epoch 46/100\n",
      "11/11 - 7s - loss: 0.2721 - accuracy: 0.9167 - val_loss: 0.2501 - val_accuracy: 0.9048\n",
      "Epoch 47/100\n",
      "11/11 - 7s - loss: 0.2629 - accuracy: 0.8810 - val_loss: 0.3118 - val_accuracy: 0.9048\n",
      "Epoch 48/100\n",
      "11/11 - 7s - loss: 0.2843 - accuracy: 0.8988 - val_loss: 0.3743 - val_accuracy: 0.8333\n",
      "Epoch 49/100\n",
      "11/11 - 8s - loss: 0.3298 - accuracy: 0.8690 - val_loss: 0.3114 - val_accuracy: 0.8571\n",
      "Epoch 50/100\n",
      "11/11 - 8s - loss: 0.3907 - accuracy: 0.8631 - val_loss: 0.2640 - val_accuracy: 0.9524\n",
      "Epoch 51/100\n",
      "11/11 - 8s - loss: 0.3165 - accuracy: 0.8988 - val_loss: 0.2014 - val_accuracy: 0.9048\n",
      "Epoch 52/100\n",
      "11/11 - 7s - loss: 0.3454 - accuracy: 0.8512 - val_loss: 0.3404 - val_accuracy: 0.8333\n",
      "Epoch 53/100\n",
      "11/11 - 7s - loss: 0.2626 - accuracy: 0.9048 - val_loss: 0.2423 - val_accuracy: 0.8810\n",
      "Epoch 54/100\n",
      "11/11 - 7s - loss: 0.2985 - accuracy: 0.8750 - val_loss: 0.1842 - val_accuracy: 0.9286\n",
      "Epoch 55/100\n",
      "11/11 - 7s - loss: 0.3092 - accuracy: 0.8810 - val_loss: 0.2152 - val_accuracy: 0.9286\n",
      "Epoch 56/100\n",
      "11/11 - 7s - loss: 0.2043 - accuracy: 0.9167 - val_loss: 0.3367 - val_accuracy: 0.8571\n",
      "Epoch 57/100\n",
      "11/11 - 7s - loss: 0.2760 - accuracy: 0.8929 - val_loss: 0.2890 - val_accuracy: 0.8571\n",
      "Epoch 58/100\n",
      "11/11 - 7s - loss: 0.2215 - accuracy: 0.9226 - val_loss: 0.3125 - val_accuracy: 0.8571\n",
      "Epoch 59/100\n",
      "11/11 - 7s - loss: 0.2579 - accuracy: 0.9107 - val_loss: 0.1987 - val_accuracy: 0.9048\n",
      "Epoch 60/100\n",
      "11/11 - 7s - loss: 0.2078 - accuracy: 0.9107 - val_loss: 0.2956 - val_accuracy: 0.8810\n",
      "Epoch 61/100\n",
      "11/11 - 8s - loss: 0.1812 - accuracy: 0.9345 - val_loss: 0.1796 - val_accuracy: 0.9048\n",
      "Epoch 62/100\n",
      "11/11 - 8s - loss: 0.2212 - accuracy: 0.9167 - val_loss: 0.2272 - val_accuracy: 0.9048\n",
      "Epoch 63/100\n",
      "11/11 - 8s - loss: 0.1850 - accuracy: 0.9464 - val_loss: 0.1726 - val_accuracy: 0.9048\n",
      "Epoch 64/100\n",
      "11/11 - 7s - loss: 0.2168 - accuracy: 0.9107 - val_loss: 0.2048 - val_accuracy: 0.8810\n",
      "Epoch 65/100\n",
      "11/11 - 8s - loss: 0.2614 - accuracy: 0.8988 - val_loss: 0.3082 - val_accuracy: 0.8810\n",
      "Epoch 66/100\n",
      "11/11 - 7s - loss: 0.2862 - accuracy: 0.8810 - val_loss: 0.2163 - val_accuracy: 0.8810\n",
      "Epoch 67/100\n",
      "11/11 - 7s - loss: 0.1787 - accuracy: 0.9286 - val_loss: 0.2137 - val_accuracy: 0.9048\n",
      "Epoch 68/100\n",
      "11/11 - 7s - loss: 0.2215 - accuracy: 0.9167 - val_loss: 0.2655 - val_accuracy: 0.8810\n",
      "Epoch 69/100\n",
      "11/11 - 7s - loss: 0.2150 - accuracy: 0.9048 - val_loss: 0.2149 - val_accuracy: 0.8810\n",
      "Epoch 70/100\n",
      "11/11 - 7s - loss: 0.2029 - accuracy: 0.9524 - val_loss: 0.3261 - val_accuracy: 0.8333\n",
      "Epoch 71/100\n",
      "11/11 - 7s - loss: 0.2233 - accuracy: 0.9107 - val_loss: 0.2741 - val_accuracy: 0.9048\n",
      "Epoch 72/100\n",
      "11/11 - 7s - loss: 0.2592 - accuracy: 0.9048 - val_loss: 0.2526 - val_accuracy: 0.8810\n",
      "Epoch 73/100\n",
      "11/11 - 7s - loss: 0.2217 - accuracy: 0.9345 - val_loss: 0.1940 - val_accuracy: 0.9048\n",
      "Epoch 74/100\n",
      "11/11 - 7s - loss: 0.2716 - accuracy: 0.8869 - val_loss: 0.3235 - val_accuracy: 0.8810\n",
      "Epoch 75/100\n",
      "11/11 - 7s - loss: 0.2026 - accuracy: 0.9286 - val_loss: 0.3542 - val_accuracy: 0.8810\n",
      "Epoch 76/100\n",
      "11/11 - 7s - loss: 0.1773 - accuracy: 0.9524 - val_loss: 0.2807 - val_accuracy: 0.9048\n",
      "Epoch 77/100\n",
      "11/11 - 7s - loss: 0.1495 - accuracy: 0.9464 - val_loss: 0.1937 - val_accuracy: 0.9048\n",
      "Epoch 78/100\n",
      "11/11 - 7s - loss: 0.1344 - accuracy: 0.9405 - val_loss: 0.1545 - val_accuracy: 0.9048\n",
      "Epoch 79/100\n",
      "11/11 - 7s - loss: 0.2074 - accuracy: 0.9286 - val_loss: 0.3996 - val_accuracy: 0.8333\n",
      "Epoch 80/100\n",
      "11/11 - 7s - loss: 0.2736 - accuracy: 0.8929 - val_loss: 0.1596 - val_accuracy: 0.8571\n",
      "Epoch 81/100\n",
      "11/11 - 7s - loss: 0.2824 - accuracy: 0.8810 - val_loss: 0.2792 - val_accuracy: 0.8095\n",
      "Epoch 82/100\n",
      "11/11 - 7s - loss: 0.2446 - accuracy: 0.8929 - val_loss: 0.2798 - val_accuracy: 0.8333\n",
      "Epoch 83/100\n",
      "11/11 - 7s - loss: 0.2517 - accuracy: 0.9048 - val_loss: 0.5433 - val_accuracy: 0.8571\n",
      "Epoch 84/100\n",
      "11/11 - 7s - loss: 0.1920 - accuracy: 0.9286 - val_loss: 0.1481 - val_accuracy: 1.0000\n",
      "Epoch 85/100\n",
      "11/11 - 7s - loss: 0.1921 - accuracy: 0.9345 - val_loss: 0.2622 - val_accuracy: 0.8571\n",
      "Epoch 86/100\n",
      "11/11 - 7s - loss: 0.1764 - accuracy: 0.9405 - val_loss: 0.2814 - val_accuracy: 0.8810\n",
      "Epoch 87/100\n",
      "11/11 - 7s - loss: 0.1977 - accuracy: 0.9524 - val_loss: 0.1504 - val_accuracy: 0.9524\n",
      "Epoch 88/100\n",
      "11/11 - 7s - loss: 0.1850 - accuracy: 0.9464 - val_loss: 0.1510 - val_accuracy: 0.9286\n",
      "Epoch 89/100\n",
      "11/11 - 7s - loss: 0.1345 - accuracy: 0.9405 - val_loss: 0.1706 - val_accuracy: 0.9286\n",
      "Epoch 90/100\n",
      "11/11 - 7s - loss: 0.1550 - accuracy: 0.9405 - val_loss: 0.1247 - val_accuracy: 0.9524\n",
      "Epoch 91/100\n",
      "11/11 - 7s - loss: 0.1493 - accuracy: 0.9643 - val_loss: 0.1996 - val_accuracy: 0.8810\n",
      "Epoch 92/100\n",
      "11/11 - 7s - loss: 0.1435 - accuracy: 0.9464 - val_loss: 0.1490 - val_accuracy: 0.8810\n",
      "Epoch 93/100\n",
      "11/11 - 7s - loss: 0.1350 - accuracy: 0.9405 - val_loss: 0.4081 - val_accuracy: 0.8571\n",
      "Epoch 94/100\n",
      "11/11 - 7s - loss: 0.1348 - accuracy: 0.9345 - val_loss: 0.2659 - val_accuracy: 0.9048\n",
      "Epoch 95/100\n",
      "11/11 - 7s - loss: 0.1483 - accuracy: 0.9583 - val_loss: 0.4440 - val_accuracy: 0.9048\n",
      "Epoch 96/100\n",
      "11/11 - 7s - loss: 0.1260 - accuracy: 0.9405 - val_loss: 0.1069 - val_accuracy: 0.9524\n",
      "Epoch 97/100\n",
      "11/11 - 7s - loss: 0.1243 - accuracy: 0.9464 - val_loss: 0.1902 - val_accuracy: 0.8571\n",
      "Epoch 98/100\n",
      "11/11 - 7s - loss: 0.1148 - accuracy: 0.9524 - val_loss: 0.1664 - val_accuracy: 0.8810\n",
      "Epoch 99/100\n",
      "11/11 - 7s - loss: 0.0594 - accuracy: 0.9881 - val_loss: 0.1608 - val_accuracy: 0.9286\n",
      "Epoch 100/100\n",
      "11/11 - 7s - loss: 0.1346 - accuracy: 0.9524 - val_loss: 0.3138 - val_accuracy: 0.9048\n"
     ]
    }
   ],
   "source": [
    "history = CNN.fit(train_set, \n",
    "                  epochs=100,\n",
    "                  validation_data=validation_set,\n",
    "                  verbose=2)"
   ]
  },
  {
   "cell_type": "code",
   "execution_count": 33,
   "id": "c0489b81-8e73-4d89-a277-a70536563642",
   "metadata": {},
   "outputs": [
    {
     "data": {
      "text/plain": [
       "<matplotlib.legend.Legend at 0x1e916a31348>"
      ]
     },
     "execution_count": 33,
     "metadata": {},
     "output_type": "execute_result"
    },
    {
     "data": {
      "image/png": "[encoded data removed]",
      "text/plain": [
       "<Figure size 720x720 with 2 Axes>"
      ]
     },
     "metadata": {
      "needs_background": "light"
     },
     "output_type": "display_data"
    }
   ],
   "source": [
    "#Plotting History\n",
    "fig, axs = plt.subplots(2,1,figsize=(10,10))\n",
    "axs[0].title.set_text('Cross Entropy Loss')\n",
    "axs[0].plot(history.history['loss'], color='blue', label='train')\n",
    "axs[0].plot(history.history['val_loss'], color='orange', label='test')\n",
    "axs[0].legend()\n",
    "axs[1].title.set_text('Classification Accuracy')\n",
    "axs[1].plot(history.history['accuracy'], color='blue', label='train')\n",
    "axs[1].plot(history.history['val_accuracy'], color='orange', label='test')\n",
    "axs[1].legend()"
   ]
  },
  {
   "cell_type": "code",
   "execution_count": 34,
   "id": "9f262fc4-b446-42cd-94a3-c9478c71a894",
   "metadata": {},
   "outputs": [
    {
     "name": "stdout",
     "output_type": "stream",
     "text": [
      "WARNING:tensorflow:sample_weight modes were coerced from\n",
      "  ...\n",
      "    to  \n",
      "  ['...']\n",
      "Evaluate on test data\n",
      "Test Loss: 0.2059233399728934, Test Acc: 0.9285714030265808\n"
     ]
    }
   ],
   "source": [
    "#Evaluate the model\n",
    "acc = CNN.evaluate(validation_set,verbose=0)\n",
    "print(\"Evaluate on test data\")\n",
    "print(\"Test Loss: {}, Test Acc: {}\".format(acc[0],acc[1]))"
   ]
  },
  {
   "cell_type": "code",
   "execution_count": 21,
   "id": "d0fb0027-2001-4c56-a1c2-3db1b0bfa79c",
   "metadata": {},
   "outputs": [],
   "source": [
    "batch = next(pred_set)\n",
    "pred = CNN.predict(batch)\n",
    "pred = np.argmax(pred, axis=1)"
   ]
  },
  {
   "cell_type": "code",
   "execution_count": 19,
   "id": "8fd54e98-74a5-485b-8f32-97af388692e6",
   "metadata": {},
   "outputs": [],
   "source": [
    "ss = pd.read_csv('kaggle_sample.csv')\n",
    "ss['class'] = "
   ]
  },
  {
   "cell_type": "code",
   "execution_count": null,
   "id": "cc5087c1-2182-4ec7-b325-1131c7b0d6e1",
   "metadata": {},
   "outputs": [],
   "source": []
  }
 ],
 "metadata": {
  "kernelspec": {
   "display_name": "Python 3",
   "language": "python",
   "name": "python3"
  },
  "language_info": {
   "codemirror_mode": {
    "name": "ipython",
    "version": 3
   },
   "file_extension": ".py",
   "mimetype": "text/x-python",
   "name": "python",
   "nbconvert_exporter": "python",
   "pygments_lexer": "ipython3",
   "version": "3.7.4"
  }
 },
 "nbformat": 4,
 "nbformat_minor": 5
}
